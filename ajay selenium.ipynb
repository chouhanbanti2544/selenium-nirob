{
 "cells": [
  {
   "cell_type": "code",
   "execution_count": null,
   "id": "a507e595",
   "metadata": {},
   "outputs": [],
   "source": [
    "!pip install selenium\n",
    "!pip install webdriver-manager"
   ]
  },
  {
   "cell_type": "code",
   "execution_count": null,
   "id": "37006789",
   "metadata": {},
   "outputs": [],
   "source": [
    "# method 1 - general approach"
   ]
  },
  {
   "cell_type": "code",
   "execution_count": 65,
   "id": "6eebf16a",
   "metadata": {},
   "outputs": [],
   "source": [
    "from selenium import webdriver\n",
    "\n",
    "from webdriver_manager.chrome import ChromeDriverManager\n",
    "from selenium.webdriver.chrome.service import Service\n",
    "ser = Service(ChromeDriverManager().install())\n",
    "from time import sleep\n",
    "\n",
    "from selenium.webdriver.support.select import Select\n",
    "\n",
    "\n",
    "from selenium.webdriver.common.by import By\n",
    "import json"
   ]
  },
  {
   "cell_type": "code",
   "execution_count": 68,
   "id": "81f4eda6",
   "metadata": {},
   "outputs": [],
   "source": [
    "url ='https://www.jobsite.co.uk/'\n",
    "\n",
    "driver = webdriver.Chrome(service = ser)\n",
    "driver.maximize_window()\n",
    "driver.get(url)\n",
    "driver.implicitly_wait(10)\n",
    "\n",
    "sleep(5)\n",
    "cookies = driver.find_element(By.ID,'ccmgt_explicit_accept')\n",
    "cookies.click()\n",
    "\n",
    "jobtitle = 'Software Engineer'\n",
    "loc ='Manchester'\n",
    "distance = '30 miles'\n",
    "sleep(5)\n",
    "job_title =  driver.find_element('id', 'keywords')\n",
    "job_title.click()\n",
    "job_title.send_keys(jobtitle)\n",
    "sleep(5)\n",
    "\n",
    "location =  driver.find_element('id', 'location')\n",
    "location.click()\n",
    "location.send_keys(loc)\n",
    "sleep(5)\n",
    "\n",
    "dropdown = driver.find_element('id', 'Radius')\n",
    "sel = Select(dropdown)\n",
    "sel.select_by_visible_text(distance)\n",
    "sleep(5)\n",
    "\n",
    "\n",
    "search =  driver.find_element(By.ID, 'search-button')\n",
    "search.click()\n",
    "sleep(5)\n",
    "\n",
    "info = []\n",
    "for page in range(1,3): \n",
    "    com_lists = []\n",
    "    com_names = driver.find_elements(By.XPATH,'//h2[@class=\"sc-fzqMAW krdChg\"]')\n",
    "\n",
    "    for com in com_names:\n",
    "        com_lists.append(com.text)\n",
    "    sleep(2)\n",
    "\n",
    "    agents =[]\n",
    "    ag = driver.find_elements(By.XPATH, '//div[@data-at=\"job-item-company-name\"]')\n",
    "    for i in ag:\n",
    "        agents.append(i.text)\n",
    "    sleep(2)\n",
    "\n",
    "    locs =[]\n",
    "    loc_name = driver.find_elements(By.XPATH,\"//div[@class='sc-fzqKVi gyfeFX']/ul/li[1]\")\n",
    "    for j in loc_name:\n",
    "        locs.append(j.text)\n",
    "    sleep(2)\n",
    "\n",
    "    sals=[]\n",
    "    sales = driver.find_elements(By.XPATH,'//dl[@data-at=\"job-item-salary-info\"]')\n",
    "    for k in sales:\n",
    "        sals.append(k.text)\n",
    "    sleep(2)\n",
    "\n",
    "    dess = []\n",
    "    d =driver.find_elements(By.XPATH,'//div[@class=\"sc-fzoYkl kSkZOQ\"]/a/span')\n",
    "    for m in d:\n",
    "        dess.append(m.text)\n",
    "\n",
    "    # saving json data\n",
    "    for no in range(len(agents)):\n",
    "        values = {\n",
    "            'JobName' : com_lists[no],\n",
    "            'AgentName' :agents[no],\n",
    "            'Location' : locs [no],\n",
    "            'Salary' : sals[no],\n",
    "            'Description' : dess[no]\n",
    "        }\n",
    "        info.append(values)\n",
    "    with open('nirob.json','w') as f:\n",
    "        json.dump(info, f)\n",
    "        \n",
    "    # click for next page\n",
    "    driver.find_element(By.XPATH, '//a[@aria-label=\"Next\"]/span').click()\n",
    "\n",
    "\n",
    "driver.quit()"
   ]
  },
  {
   "cell_type": "code",
   "execution_count": null,
   "id": "d7ebaea3",
   "metadata": {
    "collapsed": true
   },
   "outputs": [],
   "source": [
    "# to understand the close and quit "
   ]
  },
  {
   "cell_type": "code",
   "execution_count": 72,
   "id": "7141283c",
   "metadata": {},
   "outputs": [],
   "source": [
    "url = \"https://www.w3schools.com/\"\n",
    "\n",
    "driver = webdriver.Chrome(service=ser)\n",
    "\n",
    "driver.get(url)\n",
    "driver.maximize_window()\n",
    "sleep(5)\n",
    "\n",
    "button = driver.find_element(By.LINK_TEXT, 'Learn HTML')\n",
    "button.click()\n",
    "\n",
    "driver.find_element(By.LINK_TEXT, 'Get Certified').click()\n",
    "sleep(10)\n",
    "driver.quit()"
   ]
  },
  {
   "cell_type": "code",
   "execution_count": null,
   "id": "682f31b7",
   "metadata": {},
   "outputs": [],
   "source": []
  }
 ],
 "metadata": {
  "kernelspec": {
   "display_name": "Python 3 (ipykernel)",
   "language": "python",
   "name": "python3"
  },
  "language_info": {
   "codemirror_mode": {
    "name": "ipython",
    "version": 3
   },
   "file_extension": ".py",
   "mimetype": "text/x-python",
   "name": "python",
   "nbconvert_exporter": "python",
   "pygments_lexer": "ipython3",
   "version": "3.10.7"
  }
 },
 "nbformat": 4,
 "nbformat_minor": 5
}
